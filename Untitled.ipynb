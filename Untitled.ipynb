{
 "cells": [
  {
   "cell_type": "code",
   "execution_count": 1,
   "id": "637196f6-9f6f-45d9-8584-c93b9e471a5d",
   "metadata": {},
   "outputs": [],
   "source": [
    "from keras.models import load_model"
   ]
  },
  {
   "cell_type": "code",
   "execution_count": 2,
   "id": "05e219c8-7b88-4dbb-8fd1-f17a7a55f4e6",
   "metadata": {},
   "outputs": [],
   "source": [
    "model = load_model(r'mnist_nn.keras')"
   ]
  },
  {
   "cell_type": "code",
   "execution_count": null,
   "id": "b8fb2409-d640-406b-be5c-3d42f59ae2c0",
   "metadata": {},
   "outputs": [],
   "source": []
  }
 ],
 "metadata": {
  "kernelspec": {
   "display_name": "classes",
   "language": "python",
   "name": "classes"
  },
  "language_info": {
   "codemirror_mode": {
    "name": "ipython",
    "version": 3
   },
   "file_extension": ".py",
   "mimetype": "text/x-python",
   "name": "python",
   "nbconvert_exporter": "python",
   "pygments_lexer": "ipython3",
   "version": "3.12.3"
  }
 },
 "nbformat": 4,
 "nbformat_minor": 5
}
